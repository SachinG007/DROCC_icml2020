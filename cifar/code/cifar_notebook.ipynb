{
 "cells": [
  {
   "cell_type": "code",
   "execution_count": 24,
   "metadata": {},
   "outputs": [],
   "source": [
    "from __future__ import print_function\n",
    "import os\n",
    "import argparse\n",
    "import torch\n",
    "import torch.nn as nn\n",
    "import torch.nn.functional as F\n",
    "import torch.optim as optim\n",
    "from torch.utils.data import DataLoader\n",
    "from torchvision import datasets, transforms\n",
    "import numpy as np\n",
    "import matplotlib.pyplot as plt\n",
    "from datasets.main import load_dataset\n",
    "from utils import *\n",
    "from dataset import *\n",
    "from models import CIFAR10_LeNet\n",
    "from train_cifar_pgd import *"
   ]
  },
  {
   "cell_type": "code",
   "execution_count": 25,
   "metadata": {},
   "outputs": [],
   "source": [
    "class Args:\n",
    "    def __init__(self):\n",
    "        self.batch_size = 128\n",
    "        self.epochs = 40\n",
    "        self.lr = 0.01\n",
    "        self.mom = 0.0\n",
    "        self.model_dir = './log/model'\n",
    "        self.one_class_adv = 1\n",
    "        self.inp_radius = 48\n",
    "        self.inp_lamda = 1 #mu in paper\n",
    "        self.reg = 0\n",
    "        self.restore = 0\n",
    "        self.normal_class = 8\n",
    "        self.optim = 0\n",
    "    \n",
    "args=Args()"
   ]
  },
  {
   "cell_type": "code",
   "execution_count": 26,
   "metadata": {},
   "outputs": [
    {
     "data": {
      "text/plain": [
       "40"
      ]
     },
     "execution_count": 26,
     "metadata": {},
     "output_type": "execute_result"
    }
   ],
   "source": [
    "args.epochs"
   ]
  },
  {
   "cell_type": "code",
   "execution_count": 27,
   "metadata": {},
   "outputs": [],
   "source": [
    "# settings\n",
    "#Checkpoint store path\n",
    "model_dir = args.model_dir\n",
    "if not os.path.exists(model_dir):\n",
    "    os.makedirs(model_dir)\n",
    "use_cuda = torch.cuda.is_available()\n",
    "device = torch.device(\"cuda\" if use_cuda else \"cpu\")\n",
    "kwargs = {'num_workers': 1, 'pin_memory': True} if use_cuda else {}"
   ]
  },
  {
   "cell_type": "code",
   "execution_count": 28,
   "metadata": {},
   "outputs": [],
   "source": [
    "def main():\n",
    "    print(args.normal_class)\n",
    "    dataset = load_dataset(\"cifar10\", \"data\", args.normal_class)\n",
    "    train_loader, test_loader = dataset.loaders(batch_size=args.batch_size)\n",
    "    model = CIFAR10_LeNet().to(device)\n",
    "    model = nn.DataParallel(model)\n",
    "\n",
    "    #Restore from checkpoint \n",
    "    if args.restore == 1:\n",
    "        model.load_state_dict(torch.load(os.path.join(args.model_dir, 'model_cifar.pt')))\n",
    "        print(\"Saved Model Loaded\")\n",
    "\n",
    "    # Training the model\n",
    "    train(args, model, device, train_loader, test_loader)"
   ]
  },
  {
   "cell_type": "code",
   "execution_count": 29,
   "metadata": {},
   "outputs": [
    {
     "name": "stdout",
     "output_type": "stream",
     "text": [
      "8\n",
      "Files already downloaded and verified\n",
      "Files already downloaded and verified\n",
      "using Adam\n",
      "Epoch :  0  CE Loss :  1.1672762632369995  AdvLoss@Input :  4.111912727355957\n",
      "Epoch :  1  CE Loss :  0.25564995408058167  AdvLoss@Input :  0.3410516679286957\n",
      "Epoch :  2  CE Loss :  0.07933234423398972  AdvLoss@Input :  0.18375447392463684\n",
      "Epoch :  3  CE Loss :  0.021182026714086533  AdvLoss@Input :  0.01174140814691782\n",
      "Epoch :  4  CE Loss :  0.00010519734496483579  AdvLoss@Input :  0.0007860824698582292\n",
      "Epoch :  5  CE Loss :  3.484381522866897e-05  AdvLoss@Input :  0.00044253742089495063\n",
      "Epoch :  6  CE Loss :  1.596684887772426e-05  AdvLoss@Input :  0.00029769112006761134\n",
      "Epoch :  7  CE Loss :  1.0698892765503842e-05  AdvLoss@Input :  0.0001545965496916324\n",
      "Epoch :  8  CE Loss :  1.7237398424185812e-05  AdvLoss@Input :  0.00012927968055009842\n",
      "Epoch :  9  CE Loss :  5.641125881084008e-06  AdvLoss@Input :  0.00010023743379861116\n",
      "TEST AUC 0.8401839999999999\n",
      "Epoch :  10  CE Loss :  4.683762654167367e-06  AdvLoss@Input :  6.97810755809769e-05\n",
      "Epoch :  11  CE Loss :  3.845840183203109e-06  AdvLoss@Input :  5.397071436163969e-05\n",
      "Epoch :  12  CE Loss :  8.471377441310324e-06  AdvLoss@Input :  3.4884578781202435e-05\n",
      "Epoch :  13  CE Loss :  1.3120612493366934e-05  AdvLoss@Input :  2.5451454348512925e-05\n",
      "Epoch :  14  CE Loss :  3.7905535918980604e-06  AdvLoss@Input :  1.909869934024755e-05\n",
      "Epoch :  15  CE Loss :  5.021254764869809e-06  AdvLoss@Input :  1.3475037121679634e-05\n",
      "Epoch :  16  CE Loss :  6.4559544625808485e-06  AdvLoss@Input :  1.1230322343180887e-05\n",
      "Epoch :  17  CE Loss :  4.632032869267277e-06  AdvLoss@Input :  9.23870084079681e-06\n",
      "Epoch :  18  CE Loss :  3.469664761723834e-06  AdvLoss@Input :  7.528980404458707e-06\n",
      "Epoch :  19  CE Loss :  5.064401648269268e-06  AdvLoss@Input :  5.912185315537499e-06\n",
      "TEST AUC 0.8401839999999999\n",
      "Epoch :  20  CE Loss :  4.2243150346621405e-06  AdvLoss@Input :  3.719901769727585e-06\n",
      "Epoch :  21  CE Loss :  7.096693934727227e-06  AdvLoss@Input :  2.8172066777187865e-06\n",
      "Epoch :  22  CE Loss :  6.882596153445775e-06  AdvLoss@Input :  2.0410732304299017e-06\n",
      "Epoch :  23  CE Loss :  7.336576800298644e-06  AdvLoss@Input :  1.6713896684450447e-06\n",
      "Epoch :  24  CE Loss :  1.1532421922311187e-05  AdvLoss@Input :  1.1764904002120602e-06\n",
      "Epoch :  25  CE Loss :  1.4897445907990914e-05  AdvLoss@Input :  8.288751587315346e-07\n",
      "Epoch :  26  CE Loss :  1.0485712664376479e-05  AdvLoss@Input :  5.155795861355728e-07\n",
      "Epoch :  27  CE Loss :  0.0004568349104374647  AdvLoss@Input :  5.85009615861054e-07\n",
      "Epoch :  28  CE Loss :  1.910156788653694e-05  AdvLoss@Input :  3.4724345709946647e-07\n",
      "Epoch :  29  CE Loss :  2.9345081202336587e-05  AdvLoss@Input :  2.4733589043535176e-07\n",
      "TEST AUC 0.8401839999999999\n",
      "Epoch :  30  CE Loss :  1.3995471817906946e-05  AdvLoss@Input :  1.683365269400383e-07\n",
      "Epoch :  31  CE Loss :  1.1069417269027326e-05  AdvLoss@Input :  9.210779694512894e-08\n",
      "Epoch :  32  CE Loss :  1.5101455574040301e-05  AdvLoss@Input :  5.974433747724106e-08\n",
      "Epoch :  33  CE Loss :  1.581510696269106e-05  AdvLoss@Input :  3.508757373538174e-08\n",
      "Epoch :  34  CE Loss :  2.281454908370506e-05  AdvLoss@Input :  2.7078201014774095e-08\n",
      "Epoch :  35  CE Loss :  0.00020487904839683324  AdvLoss@Input :  1.1501833263594108e-08\n",
      "Epoch :  36  CE Loss :  3.414551247260533e-05  AdvLoss@Input :  7.63684404603282e-09\n",
      "Epoch :  37  CE Loss :  3.085233038291335e-05  AdvLoss@Input :  5.005858394468987e-09\n",
      "Epoch :  38  CE Loss :  3.625333556556143e-05  AdvLoss@Input :  4.097818973036738e-09\n",
      "Epoch :  39  CE Loss :  3.6162626201985404e-05  AdvLoss@Input :  2.2584569769890095e-09\n",
      "TEST AUC 0.8401839999999999\n"
     ]
    }
   ],
   "source": [
    "main()"
   ]
  },
  {
   "cell_type": "code",
   "execution_count": null,
   "metadata": {},
   "outputs": [],
   "source": []
  }
 ],
 "metadata": {
  "kernelspec": {
   "display_name": "Python 3",
   "language": "python",
   "name": "python3"
  },
  "language_info": {
   "codemirror_mode": {
    "name": "ipython",
    "version": 3
   },
   "file_extension": ".py",
   "mimetype": "text/x-python",
   "name": "python",
   "nbconvert_exporter": "python",
   "pygments_lexer": "ipython3",
   "version": "3.6.8"
  }
 },
 "nbformat": 4,
 "nbformat_minor": 2
}
