{
 "cells": [
  {
   "cell_type": "code",
   "execution_count": 1,
   "metadata": {},
   "outputs": [],
   "source": [
    "from __future__ import print_function\n",
    "import os\n",
    "import argparse\n",
    "import torch\n",
    "import torch.nn as nn\n",
    "import torch.nn.functional as F\n",
    "import torch.optim as optim\n",
    "from torch.utils.data import DataLoader\n",
    "from torchvision import datasets, transforms\n",
    "import numpy as np\n",
    "import matplotlib.pyplot as plt\n",
    "from datasets.main import load_dataset\n",
    "from utils import *\n",
    "from dataset import *\n",
    "from models import CIFAR10_LeNet\n",
    "from train_cifar_pgd import *"
   ]
  },
  {
   "cell_type": "code",
   "execution_count": 4,
   "metadata": {},
   "outputs": [],
   "source": [
    "class Args:\n",
    "  batch_size = 128\n",
    "  epochs = 100\n",
    "  lr = 0.001\n",
    "  mom = 0.0\n",
    "  model_dir = './log/model'\n",
    "  one_class_adv = 1\n",
    "  inp_radius = 0.2\n",
    "  inp_lamda = 1\n",
    "  reg = 0\n",
    "  restore = 0\n",
    "  normal_class = 0\n",
    "  optim = 0\n",
    "    \n",
    "args=Args()"
   ]
  },
  {
   "cell_type": "code",
   "execution_count": 6,
   "metadata": {},
   "outputs": [],
   "source": [
    "# settings\n",
    "#Checkpoint store path\n",
    "model_dir = args.model_dir\n",
    "if not os.path.exists(model_dir):\n",
    "    os.makedirs(model_dir)\n",
    "use_cuda = torch.cuda.is_available()\n",
    "device = torch.device(\"cuda\" if use_cuda else \"cpu\")\n",
    "kwargs = {'num_workers': 1, 'pin_memory': True} if use_cuda else {}"
   ]
  },
  {
   "cell_type": "code",
   "execution_count": 7,
   "metadata": {},
   "outputs": [],
   "source": [
    "def main():\n",
    "    dataset = load_dataset(\"cifar10\", \"data\", args.normal_class)\n",
    "    train_loader, test_loader = dataset.loaders(batch_size=args.batch_size)\n",
    "    model = CIFAR10_LeNet().to(device)\n",
    "    model = nn.DataParallel(model)\n",
    "\n",
    "    #Restore from checkpoint \n",
    "    if args.restore == 1:\n",
    "        model.load_state_dict(torch.load(os.path.join(args.model_dir, 'model_cifar.pt')))\n",
    "        print(\"Saved Model Loaded\")\n",
    "\n",
    "    # Training the model\n",
    "    train(args, model, device, train_loader, test_loader)"
   ]
  },
  {
   "cell_type": "code",
   "execution_count": null,
   "metadata": {},
   "outputs": [
    {
     "name": "stdout",
     "output_type": "stream",
     "text": [
      "Files already downloaded and verified\n",
      "Files already downloaded and verified\n",
      "using Adam\n",
      "Epoch :  0  CE Loss :  0.6870094537734985  AdvLoss@Input :  0.6828915476799011\n"
     ]
    }
   ],
   "source": [
    "main()"
   ]
  },
  {
   "cell_type": "code",
   "execution_count": null,
   "metadata": {},
   "outputs": [],
   "source": []
  }
 ],
 "metadata": {
  "kernelspec": {
   "display_name": "Python 3",
   "language": "python",
   "name": "python3"
  },
  "language_info": {
   "codemirror_mode": {
    "name": "ipython",
    "version": 3
   },
   "file_extension": ".py",
   "mimetype": "text/x-python",
   "name": "python",
   "nbconvert_exporter": "python",
   "pygments_lexer": "ipython3",
   "version": "3.6.8"
  }
 },
 "nbformat": 4,
 "nbformat_minor": 2
}
