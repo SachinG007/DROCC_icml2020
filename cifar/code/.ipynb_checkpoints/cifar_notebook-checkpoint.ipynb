{
 "cells": [
  {
   "cell_type": "code",
   "execution_count": 9,
   "metadata": {},
   "outputs": [],
   "source": [
    "from __future__ import print_function\n",
    "import os\n",
    "import argparse\n",
    "import torch\n",
    "import torch.nn as nn\n",
    "import torch.nn.functional as F\n",
    "import torch.optim as optim\n",
    "from torch.utils.data import DataLoader\n",
    "from torchvision import datasets, transforms\n",
    "import numpy as np\n",
    "import matplotlib.pyplot as plt\n",
    "from datasets.main import load_dataset\n",
    "from utils import *\n",
    "from dataset import *\n",
    "from models import CIFAR10_LeNet\n",
    "from train_cifar_pgd import *"
   ]
  },
  {
   "cell_type": "code",
   "execution_count": 14,
   "metadata": {},
   "outputs": [],
   "source": [
    "class Args:\n",
    "  batch_size = 128\n",
    "  epochs = 40\n",
    "  lr = 0.001\n",
    "  mom = 0.0\n",
    "  model_dir = './log/model'\n",
    "  one_class_adv = 1\n",
    "  inp_radius = 8\n",
    "  inp_lamda = 1\n",
    "  reg = 0\n",
    "  restore = 0\n",
    "  normal_class = 0\n",
    "  optim = 0\n",
    "    \n",
    "args=Args()"
   ]
  },
  {
   "cell_type": "code",
   "execution_count": 15,
   "metadata": {},
   "outputs": [],
   "source": [
    "# settings\n",
    "#Checkpoint store path\n",
    "model_dir = args.model_dir\n",
    "if not os.path.exists(model_dir):\n",
    "    os.makedirs(model_dir)\n",
    "use_cuda = torch.cuda.is_available()\n",
    "device = torch.device(\"cuda\" if use_cuda else \"cpu\")\n",
    "kwargs = {'num_workers': 1, 'pin_memory': True} if use_cuda else {}"
   ]
  },
  {
   "cell_type": "code",
   "execution_count": 16,
   "metadata": {},
   "outputs": [],
   "source": [
    "def main():\n",
    "    dataset = load_dataset(\"cifar10\", \"data\", args.normal_class)\n",
    "    train_loader, test_loader = dataset.loaders(batch_size=args.batch_size)\n",
    "    model = CIFAR10_LeNet().to(device)\n",
    "    model = nn.DataParallel(model)\n",
    "\n",
    "    #Restore from checkpoint \n",
    "    if args.restore == 1:\n",
    "        model.load_state_dict(torch.load(os.path.join(args.model_dir, 'model_cifar.pt')))\n",
    "        print(\"Saved Model Loaded\")\n",
    "\n",
    "    # Training the model\n",
    "    train(args, model, device, train_loader, test_loader)"
   ]
  },
  {
   "cell_type": "code",
   "execution_count": 17,
   "metadata": {},
   "outputs": [
    {
     "name": "stdout",
     "output_type": "stream",
     "text": [
      "Files already downloaded and verified\n",
      "Files already downloaded and verified\n",
      "using Adam\n",
      "Epoch :  0  CE Loss :  0.6519469618797302  AdvLoss@Input :  0.6882907748222351\n",
      "Epoch :  1  CE Loss :  0.5500556826591492  AdvLoss@Input :  0.5745773911476135\n",
      "Epoch :  2  CE Loss :  0.4369063973426819  AdvLoss@Input :  0.44017916917800903\n",
      "Epoch :  3  CE Loss :  0.5647535920143127  AdvLoss@Input :  0.5630049705505371\n",
      "Epoch :  4  CE Loss :  0.5658359527587891  AdvLoss@Input :  0.6075612306594849\n",
      "Epoch :  5  CE Loss :  0.39335113763809204  AdvLoss@Input :  0.40433233976364136\n",
      "Epoch :  6  CE Loss :  0.19368775188922882  AdvLoss@Input :  0.1394774615764618\n",
      "Epoch :  7  CE Loss :  0.15923282504081726  AdvLoss@Input :  0.11132894456386566\n",
      "Epoch :  8  CE Loss :  0.24254968762397766  AdvLoss@Input :  0.2030983865261078\n",
      "Epoch :  9  CE Loss :  0.18272925913333893  AdvLoss@Input :  0.14274534583091736\n",
      "TEST AUC 0.8216442222222222\n",
      "Epoch :  10  CE Loss :  0.16069777309894562  AdvLoss@Input :  0.09815339744091034\n",
      "Epoch :  11  CE Loss :  0.04952603578567505  AdvLoss@Input :  0.033030424267053604\n",
      "Epoch :  12  CE Loss :  0.07297540456056595  AdvLoss@Input :  0.04477860406041145\n",
      "Epoch :  13  CE Loss :  0.04468529671430588  AdvLoss@Input :  0.02319253981113434\n",
      "Epoch :  14  CE Loss :  0.05283619835972786  AdvLoss@Input :  0.033271633088588715\n",
      "Epoch :  15  CE Loss :  0.4237947463989258  AdvLoss@Input :  0.39622098207473755\n",
      "Epoch :  16  CE Loss :  0.06548716872930527  AdvLoss@Input :  0.04857345297932625\n",
      "Epoch :  17  CE Loss :  0.04493425413966179  AdvLoss@Input :  0.028447875753045082\n",
      "Epoch :  18  CE Loss :  0.022797098383307457  AdvLoss@Input :  0.02062208577990532\n",
      "Epoch :  19  CE Loss :  0.03791056200861931  AdvLoss@Input :  0.019971974194049835\n",
      "TEST AUC 0.8216442222222222\n",
      "Epoch :  20  CE Loss :  0.024812990799546242  AdvLoss@Input :  0.01712334156036377\n",
      "Epoch :  21  CE Loss :  0.02219248376786709  AdvLoss@Input :  0.01693967543542385\n",
      "Epoch :  22  CE Loss :  0.02055964432656765  AdvLoss@Input :  0.01285333652049303\n",
      "Epoch :  23  CE Loss :  0.01702824793756008  AdvLoss@Input :  0.012140199542045593\n",
      "Epoch :  24  CE Loss :  0.01786954142153263  AdvLoss@Input :  0.009802115149796009\n",
      "Epoch :  25  CE Loss :  0.016085254028439522  AdvLoss@Input :  0.009732448495924473\n",
      "Epoch :  26  CE Loss :  0.015071091242134571  AdvLoss@Input :  0.010646807961165905\n",
      "Epoch :  27  CE Loss :  0.01624610461294651  AdvLoss@Input :  0.009252502582967281\n",
      "Epoch :  28  CE Loss :  0.016707686707377434  AdvLoss@Input :  0.00914575345814228\n",
      "Epoch :  29  CE Loss :  0.013542230241000652  AdvLoss@Input :  0.008899705484509468\n",
      "TEST AUC 0.8216442222222222\n",
      "Epoch :  30  CE Loss :  0.015676019713282585  AdvLoss@Input :  0.009013392962515354\n",
      "Epoch :  31  CE Loss :  0.01443722564727068  AdvLoss@Input :  0.008632429875433445\n",
      "Epoch :  32  CE Loss :  0.012819263152778149  AdvLoss@Input :  0.007452044636011124\n",
      "Epoch :  33  CE Loss :  0.011952451430261135  AdvLoss@Input :  0.007779098115861416\n",
      "Epoch :  34  CE Loss :  0.012514903210103512  AdvLoss@Input :  0.007616050541400909\n",
      "Epoch :  35  CE Loss :  0.012231633998453617  AdvLoss@Input :  0.008129061199724674\n",
      "Epoch :  36  CE Loss :  0.012598778121173382  AdvLoss@Input :  0.008527202531695366\n",
      "Epoch :  37  CE Loss :  0.013380107469856739  AdvLoss@Input :  0.007725502364337444\n",
      "Epoch :  38  CE Loss :  0.013585290871560574  AdvLoss@Input :  0.009548114612698555\n",
      "Epoch :  39  CE Loss :  0.015381698496639729  AdvLoss@Input :  0.007878533564507961\n",
      "TEST AUC 0.8216442222222222\n"
     ]
    }
   ],
   "source": [
    "main()"
   ]
  },
  {
   "cell_type": "code",
   "execution_count": null,
   "metadata": {},
   "outputs": [],
   "source": []
  }
 ],
 "metadata": {
  "kernelspec": {
   "display_name": "Python 3",
   "language": "python",
   "name": "python3"
  },
  "language_info": {
   "codemirror_mode": {
    "name": "ipython",
    "version": 3
   },
   "file_extension": ".py",
   "mimetype": "text/x-python",
   "name": "python",
   "nbconvert_exporter": "python",
   "pygments_lexer": "ipython3",
   "version": "3.6.8"
  }
 },
 "nbformat": 4,
 "nbformat_minor": 2
}
