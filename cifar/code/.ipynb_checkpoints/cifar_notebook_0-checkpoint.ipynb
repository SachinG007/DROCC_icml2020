{
 "cells": [
  {
   "cell_type": "code",
   "execution_count": 1,
   "metadata": {},
   "outputs": [],
   "source": [
    "from __future__ import print_function\n",
    "import os\n",
    "import argparse\n",
    "import torch\n",
    "import torch.nn as nn\n",
    "import torch.nn.functional as F\n",
    "import torch.optim as optim\n",
    "from torch.utils.data import DataLoader\n",
    "from torchvision import datasets, transforms\n",
    "import numpy as np\n",
    "import matplotlib.pyplot as plt\n",
    "from datasets.main import load_dataset\n",
    "from utils import *\n",
    "from dataset import *\n",
    "from models import CIFAR10_LeNet\n",
    "from train_cifar_pgd import *"
   ]
  },
  {
   "cell_type": "code",
   "execution_count": 2,
   "metadata": {},
   "outputs": [],
   "source": [
    "class Args:\n",
    "    def __init__(self):\n",
    "        self.batch_size = 128\n",
    "        self.epochs = 40\n",
    "        self.lr = 0.001\n",
    "        self.mom = 0.0\n",
    "        self.model_dir = './log/model'\n",
    "        self.one_class_adv = 1\n",
    "        self.inp_radius = 8\n",
    "        self.inp_lamda = 1 #mu in paper\n",
    "        self.reg = 0\n",
    "        self.restore = 0\n",
    "        self.normal_class = 0\n",
    "        self.optim = 0\n",
    "    \n",
    "args=Args()"
   ]
  },
  {
   "cell_type": "code",
   "execution_count": 3,
   "metadata": {},
   "outputs": [
    {
     "data": {
      "text/plain": [
       "40"
      ]
     },
     "execution_count": 3,
     "metadata": {},
     "output_type": "execute_result"
    }
   ],
   "source": [
    "args.epochs"
   ]
  },
  {
   "cell_type": "code",
   "execution_count": 4,
   "metadata": {},
   "outputs": [],
   "source": [
    "# settings\n",
    "#Checkpoint store path\n",
    "model_dir = args.model_dir\n",
    "if not os.path.exists(model_dir):\n",
    "    os.makedirs(model_dir)\n",
    "use_cuda = torch.cuda.is_available()\n",
    "device = torch.device(\"cuda\" if use_cuda else \"cpu\")\n",
    "kwargs = {'num_workers': 1, 'pin_memory': True} if use_cuda else {}"
   ]
  },
  {
   "cell_type": "code",
   "execution_count": 5,
   "metadata": {},
   "outputs": [],
   "source": [
    "def main():\n",
    "    print(args.normal_class)\n",
    "    dataset = load_dataset(\"cifar10\", \"data\", args.normal_class)\n",
    "    train_loader, test_loader = dataset.loaders(batch_size=args.batch_size)\n",
    "    model = CIFAR10_LeNet().to(device)\n",
    "    model = nn.DataParallel(model)\n",
    "\n",
    "    #Restore from checkpoint \n",
    "    if args.restore == 1:\n",
    "        model.load_state_dict(torch.load(os.path.join(args.model_dir, 'model_cifar.pt')))\n",
    "        print(\"Saved Model Loaded\")\n",
    "\n",
    "    # Training the model\n",
    "    train(args, model, device, train_loader, test_loader)"
   ]
  },
  {
   "cell_type": "code",
   "execution_count": 6,
   "metadata": {},
   "outputs": [
    {
     "name": "stdout",
     "output_type": "stream",
     "text": [
      "0\n",
      "Files already downloaded and verified\n",
      "Files already downloaded and verified\n",
      "using Adam\n",
      "Epoch :  0  CE Loss :  0.6382291316986084  AdvLoss@Input :  0.7089312672615051\n",
      "Epoch :  1  CE Loss :  0.6571680307388306  AdvLoss@Input :  0.6551491618156433\n",
      "Epoch :  2  CE Loss :  0.5015281438827515  AdvLoss@Input :  0.48018544912338257\n",
      "Epoch :  3  CE Loss :  0.6096166372299194  AdvLoss@Input :  0.6679998636245728\n",
      "Epoch :  4  CE Loss :  0.7484439015388489  AdvLoss@Input :  0.8058596849441528\n",
      "Epoch :  5  CE Loss :  0.5472471117973328  AdvLoss@Input :  0.5465632677078247\n",
      "Epoch :  6  CE Loss :  0.30223748087882996  AdvLoss@Input :  0.23669597506523132\n",
      "Epoch :  7  CE Loss :  0.7748093008995056  AdvLoss@Input :  0.7336545586585999\n",
      "Epoch :  8  CE Loss :  0.5674296617507935  AdvLoss@Input :  0.6308528780937195\n",
      "Epoch :  9  CE Loss :  0.45193836092948914  AdvLoss@Input :  0.4469524919986725\n",
      "TEST AUC 0.778123\n",
      "Epoch :  10  CE Loss :  0.23118209838867188  AdvLoss@Input :  0.17400303483009338\n",
      "Epoch :  11  CE Loss :  0.2878987491130829  AdvLoss@Input :  0.19228824973106384\n",
      "Epoch :  12  CE Loss :  0.18679814040660858  AdvLoss@Input :  0.14493203163146973\n",
      "Epoch :  13  CE Loss :  0.10232243686914444  AdvLoss@Input :  0.06756747514009476\n",
      "Epoch :  14  CE Loss :  0.16442999243736267  AdvLoss@Input :  0.11693878471851349\n",
      "Epoch :  15  CE Loss :  0.06257981806993484  AdvLoss@Input :  0.04124761372804642\n",
      "Epoch :  16  CE Loss :  0.054690755903720856  AdvLoss@Input :  0.0369105264544487\n",
      "Epoch :  17  CE Loss :  0.023344889283180237  AdvLoss@Input :  0.013881457969546318\n",
      "Epoch :  18  CE Loss :  0.021296296268701553  AdvLoss@Input :  0.014776796102523804\n",
      "Epoch :  19  CE Loss :  0.017407428473234177  AdvLoss@Input :  0.012195931747555733\n",
      "TEST AUC 0.8117528888888889\n",
      "Epoch :  20  CE Loss :  0.017604071646928787  AdvLoss@Input :  0.011817428283393383\n",
      "Epoch :  21  CE Loss :  0.016722915694117546  AdvLoss@Input :  0.011319870129227638\n",
      "Epoch :  22  CE Loss :  0.016631025820970535  AdvLoss@Input :  0.01004276517778635\n",
      "Epoch :  23  CE Loss :  0.015750980004668236  AdvLoss@Input :  0.009722964838147163\n",
      "Epoch :  24  CE Loss :  0.014251847751438618  AdvLoss@Input :  0.010224317200481892\n",
      "Epoch :  25  CE Loss :  0.014306056313216686  AdvLoss@Input :  0.008312249556183815\n",
      "Epoch :  26  CE Loss :  0.01306516956537962  AdvLoss@Input :  0.008565203286707401\n",
      "Epoch :  27  CE Loss :  0.012754976749420166  AdvLoss@Input :  0.008208888582885265\n",
      "Epoch :  28  CE Loss :  0.01172996312379837  AdvLoss@Input :  0.007008645683526993\n",
      "Epoch :  29  CE Loss :  0.012005538679659367  AdvLoss@Input :  0.008298125118017197\n",
      "TEST AUC 0.8117528888888889\n",
      "Epoch :  30  CE Loss :  0.01299180556088686  AdvLoss@Input :  0.006516489200294018\n",
      "Epoch :  31  CE Loss :  0.011127014644443989  AdvLoss@Input :  0.00682738795876503\n",
      "Epoch :  32  CE Loss :  0.01071828044950962  AdvLoss@Input :  0.007201232016086578\n",
      "Epoch :  33  CE Loss :  0.011100245639681816  AdvLoss@Input :  0.006294724531471729\n",
      "Epoch :  34  CE Loss :  0.012541010975837708  AdvLoss@Input :  0.007064406760036945\n",
      "Epoch :  35  CE Loss :  0.012345745228230953  AdvLoss@Input :  0.008373684249818325\n",
      "Epoch :  36  CE Loss :  0.013006743974983692  AdvLoss@Input :  0.008845491334795952\n",
      "Epoch :  37  CE Loss :  0.014267346821725368  AdvLoss@Input :  0.00974557176232338\n",
      "Epoch :  38  CE Loss :  0.014278218150138855  AdvLoss@Input :  0.009566985070705414\n",
      "Epoch :  39  CE Loss :  0.01594368927180767  AdvLoss@Input :  0.010754026472568512\n",
      "TEST AUC 0.8117528888888889\n"
     ]
    }
   ],
   "source": [
    "main()"
   ]
  },
  {
   "cell_type": "code",
   "execution_count": null,
   "metadata": {},
   "outputs": [],
   "source": []
  }
 ],
 "metadata": {
  "kernelspec": {
   "display_name": "Python 3",
   "language": "python",
   "name": "python3"
  },
  "language_info": {
   "codemirror_mode": {
    "name": "ipython",
    "version": 3
   },
   "file_extension": ".py",
   "mimetype": "text/x-python",
   "name": "python",
   "nbconvert_exporter": "python",
   "pygments_lexer": "ipython3",
   "version": "3.6.8"
  }
 },
 "nbformat": 4,
 "nbformat_minor": 2
}
